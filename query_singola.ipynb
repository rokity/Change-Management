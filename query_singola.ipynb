{
 "metadata": {
  "language_info": {
   "codemirror_mode": {
    "name": "ipython",
    "version": 3
   },
   "file_extension": ".py",
   "mimetype": "text/x-python",
   "name": "python",
   "nbconvert_exporter": "python",
   "pygments_lexer": "ipython3",
   "version": "3.8.3-final"
  },
  "orig_nbformat": 2,
  "kernelspec": {
   "name": "python3",
   "display_name": "Python 3",
   "language": "python"
  }
 },
 "nbformat": 4,
 "nbformat_minor": 2,
 "cells": [
  {
   "cell_type": "code",
   "execution_count": 85,
   "metadata": {
    "tags": []
   },
   "outputs": [
    {
     "output_type": "error",
     "ename": "AttributeError",
     "evalue": "module 'matplotlib.pyplot' has no attribute 'set_xlabel'",
     "traceback": [
      "\u001b[0;31m---------------------------------------------------------------------------\u001b[0m",
      "\u001b[0;31mAttributeError\u001b[0m                            Traceback (most recent call last)",
      "\u001b[0;32m<ipython-input-85-43ae24109ac0>\u001b[0m in \u001b[0;36m<module>\u001b[0;34m\u001b[0m\n\u001b[1;32m     60\u001b[0m \u001b[0;34m\u001b[0m\u001b[0m\n\u001b[1;32m     61\u001b[0m \u001b[0;32mif\u001b[0m \u001b[0m__name__\u001b[0m \u001b[0;34m==\u001b[0m \u001b[0;34m\"__main__\"\u001b[0m\u001b[0;34m:\u001b[0m\u001b[0;34m\u001b[0m\u001b[0;34m\u001b[0m\u001b[0m\n\u001b[0;32m---> 62\u001b[0;31m     \u001b[0mmain\u001b[0m\u001b[0;34m(\u001b[0m\u001b[0;34m)\u001b[0m\u001b[0;34m\u001b[0m\u001b[0;34m\u001b[0m\u001b[0m\n\u001b[0m",
      "\u001b[0;32m<ipython-input-85-43ae24109ac0>\u001b[0m in \u001b[0;36mmain\u001b[0;34m()\u001b[0m\n\u001b[1;32m     53\u001b[0m         \u001b[0mplt\u001b[0m\u001b[0;34m.\u001b[0m\u001b[0mplot\u001b[0m\u001b[0;34m(\u001b[0m\u001b[0myears\u001b[0m\u001b[0;34m,\u001b[0m\u001b[0;34m[\u001b[0m\u001b[0mquery\u001b[0m\u001b[0;34m[\u001b[0m\u001b[0mkey\u001b[0m\u001b[0;34m]\u001b[0m \u001b[0;32mfor\u001b[0m \u001b[0mkey\u001b[0m \u001b[0;32min\u001b[0m \u001b[0mquery\u001b[0m\u001b[0;34m.\u001b[0m\u001b[0mkeys\u001b[0m\u001b[0;34m(\u001b[0m\u001b[0;34m)\u001b[0m\u001b[0;34m]\u001b[0m\u001b[0;34m)\u001b[0m\u001b[0;34m\u001b[0m\u001b[0;34m\u001b[0m\u001b[0m\n\u001b[1;32m     54\u001b[0m         \u001b[0mplt\u001b[0m\u001b[0;34m.\u001b[0m\u001b[0mylabel\u001b[0m\u001b[0;34m(\u001b[0m\u001b[0;34m'results'\u001b[0m\u001b[0;34m)\u001b[0m\u001b[0;34m\u001b[0m\u001b[0;34m\u001b[0m\u001b[0m\n\u001b[0;32m---> 55\u001b[0;31m         \u001b[0mplt\u001b[0m\u001b[0;34m.\u001b[0m\u001b[0mset_xlabel\u001b[0m\u001b[0;34m(\u001b[0m\u001b[0mtesto_query\u001b[0m\u001b[0;34m)\u001b[0m\u001b[0;34m\u001b[0m\u001b[0;34m\u001b[0m\u001b[0m\n\u001b[0m\u001b[1;32m     56\u001b[0m         \u001b[0mplt\u001b[0m\u001b[0;34m.\u001b[0m\u001b[0msavefig\u001b[0m\u001b[0;34m(\u001b[0m\u001b[0;34mf\"grafici/singole/{indice}.png\"\u001b[0m\u001b[0;34m,\u001b[0m\u001b[0mbbox_inches\u001b[0m\u001b[0;34m=\u001b[0m\u001b[0;34m'tight'\u001b[0m\u001b[0;34m)\u001b[0m\u001b[0;34m\u001b[0m\u001b[0;34m\u001b[0m\u001b[0m\n\u001b[1;32m     57\u001b[0m         \u001b[0mplt\u001b[0m\u001b[0;34m.\u001b[0m\u001b[0mclose\u001b[0m\u001b[0;34m(\u001b[0m\u001b[0;34m)\u001b[0m\u001b[0;34m\u001b[0m\u001b[0;34m\u001b[0m\u001b[0m\n",
      "\u001b[0;31mAttributeError\u001b[0m: module 'matplotlib.pyplot' has no attribute 'set_xlabel'"
     ]
    }
   ],
   "source": [
    "import requests\n",
    "import json\n",
    "import os\n",
    "import csv\n",
    "import pandas as pd\n",
    "import math\n",
    "import numpy as np\n",
    "import matplotlib.pyplot as plt\n",
    "\n",
    "\n",
    "MY_API_KEY='9eab72c1b16e7eabbcc3b4cceb7851e7'\n",
    "\n",
    "def get_chunk(key,start,count='25',date='2010-2020'):\n",
    "    resp = requests.get(f\"https://api.elsevier.com/content/search/scopus?query={key}&start={start}&count={count}&date={date}\",\n",
    "                    headers={'Accept':'application/json',\n",
    "                             'X-ELS-APIKey': MY_API_KEY})\n",
    "    data=json.loads(resp.text.encode('utf-8'))\n",
    "    return data\n",
    "\n",
    "# def compose_query(fields_query):\n",
    "#         query=f\"{fields_query['filter']}%28{fields_query['management']}+{fields_query['logic1']}+{fields_query['soft']}%29\"\n",
    "#         return query\n",
    "\n",
    "def get_queries(path_file):\n",
    "    df=pd.read_csv(path_file)\n",
    "    return df.to_dict(orient='records')\n",
    "\n",
    "def write_result(path_file,fields_query,result,index,year):\n",
    "    df=pd.read_csv(path_file)\n",
    "    df.loc[index,f\"{year}\"]=math.trunc(int(result))\n",
    "    # df[year]=np.floor(df.year).astype(int)\n",
    "    df.to_csv(path_file,index=False,)\n",
    "\n",
    "def compose_query(fields_query):\n",
    "    query=f\"{fields_query['filter1']}%28{fields_query['query']}%29+{fields_query['logic1']}+{fields_query['filter2']}%28\"\n",
    "    query=query+f\"{fields_query['query']}%29+{fields_query['logic2']}+{fields_query['filter3']}%28{fields_query['query']}%29\"\n",
    "    return query\n",
    "def main():\n",
    "    # queries=get_queries(\"query_singole.csv\")\n",
    "    # for i,query in enumerate(queries):\n",
    "    #         for year in range(2010,2021):\n",
    "    #             composed_query=compose_query(query)            \n",
    "    #             data=get_chunk(composed_query,start=0,count=25,date=year)    \n",
    "    #             total_results=int(data['search-results']['opensearch:totalResults'])            \n",
    "    #             write_result(\"query_singole_distribuite.csv\",query,total_results,i,year)\n",
    "    queries=pd.read_csv(\"query_singole_distribuite.csv\").to_dict('records')\n",
    "    years=[2010,2011,2012,2013,2014,2015,2016,2017,2018,2019,2020]\n",
    "    indice=0\n",
    "    for query in queries:\n",
    "        testo_query=query['query']\n",
    "        query.pop('query',None)\n",
    "        plt.tight_layout()\n",
    "        plt.plot(years,[query[key] for key in query.keys()])\n",
    "        plt.ylabel('results')\n",
    "        plt.xlabel(testo_query)        \n",
    "        plt.savefig(f\"grafici/singole/{indice}.png\",bbox_inches='tight')\n",
    "        plt.close()\n",
    "        indice+=1\n",
    "\n",
    "\n",
    "if __name__ == \"__main__\":\n",
    "    main()"
   ]
  }
 ]
}