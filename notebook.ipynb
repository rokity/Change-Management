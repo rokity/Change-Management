{
 "metadata": {
  "language_info": {
   "codemirror_mode": {
    "name": "ipython",
    "version": 3
   },
   "file_extension": ".py",
   "mimetype": "text/x-python",
   "name": "python",
   "nbconvert_exporter": "python",
   "pygments_lexer": "ipython3",
   "version": "3.8.3-final"
  },
  "orig_nbformat": 2,
  "kernelspec": {
   "name": "python3",
   "display_name": "Python 3",
   "language": "python"
  }
 },
 "nbformat": 4,
 "nbformat_minor": 2,
 "cells": [
  {
   "cell_type": "code",
   "execution_count": 3,
   "metadata": {},
   "outputs": [
    {
     "output_type": "error",
     "ename": "KeyError",
     "evalue": "'filter'",
     "traceback": [
      "\u001b[0;31m---------------------------------------------------------------------------\u001b[0m",
      "\u001b[0;31mKeyError\u001b[0m                                  Traceback (most recent call last)",
      "\u001b[0;32m<ipython-input-3-8e8942726f53>\u001b[0m in \u001b[0;36m<module>\u001b[0;34m\u001b[0m\n\u001b[1;32m     62\u001b[0m \u001b[0;34m\u001b[0m\u001b[0m\n\u001b[1;32m     63\u001b[0m \u001b[0;32mif\u001b[0m \u001b[0m__name__\u001b[0m \u001b[0;34m==\u001b[0m \u001b[0;34m\"__main__\"\u001b[0m\u001b[0;34m:\u001b[0m\u001b[0;34m\u001b[0m\u001b[0;34m\u001b[0m\u001b[0m\n\u001b[0;32m---> 64\u001b[0;31m     \u001b[0mmain\u001b[0m\u001b[0;34m(\u001b[0m\u001b[0;34m)\u001b[0m\u001b[0;34m\u001b[0m\u001b[0;34m\u001b[0m\u001b[0m\n\u001b[0m",
      "\u001b[0;32m<ipython-input-3-8e8942726f53>\u001b[0m in \u001b[0;36mmain\u001b[0;34m()\u001b[0m\n\u001b[1;32m     53\u001b[0m     \u001b[0;31m# generate_combination(path_combination_file,queries_csv)\u001b[0m\u001b[0;34m\u001b[0m\u001b[0;34m\u001b[0m\u001b[0;34m\u001b[0m\u001b[0m\n\u001b[1;32m     54\u001b[0m     \u001b[0mqueries\u001b[0m\u001b[0;34m=\u001b[0m\u001b[0mget_queries\u001b[0m\u001b[0;34m(\u001b[0m\u001b[0mqueries_csv\u001b[0m\u001b[0;34m)\u001b[0m\u001b[0;34m\u001b[0m\u001b[0;34m\u001b[0m\u001b[0m\n\u001b[0;32m---> 55\u001b[0;31m     \u001b[0mcomposed_query\u001b[0m\u001b[0;34m=\u001b[0m\u001b[0mcompose_query\u001b[0m\u001b[0;34m(\u001b[0m\u001b[0mqueries\u001b[0m\u001b[0;34m[\u001b[0m\u001b[0;36m0\u001b[0m\u001b[0;34m]\u001b[0m\u001b[0;34m)\u001b[0m\u001b[0;34m\u001b[0m\u001b[0;34m\u001b[0m\u001b[0m\n\u001b[0m\u001b[1;32m     56\u001b[0m     \u001b[0mprint\u001b[0m\u001b[0;34m(\u001b[0m\u001b[0mcomposed_query\u001b[0m\u001b[0;34m)\u001b[0m\u001b[0;34m\u001b[0m\u001b[0;34m\u001b[0m\u001b[0m\n\u001b[1;32m     57\u001b[0m     \u001b[0;31m# for query in queries:\u001b[0m\u001b[0;34m\u001b[0m\u001b[0;34m\u001b[0m\u001b[0;34m\u001b[0m\u001b[0m\n",
      "\u001b[0;32m<ipython-input-3-8e8942726f53>\u001b[0m in \u001b[0;36mcompose_query\u001b[0;34m(fields_query)\u001b[0m\n\u001b[1;32m     40\u001b[0m         \u001b[0mquery\u001b[0m\u001b[0;34m=\u001b[0m\u001b[0;34mf\"{fields_query['filter']}%28{fields_query['management']}+{fields_query['logic1']}+{fields_query['soft']}+{fields_query['logic2']}+{fields_query['iot']}%29\"\u001b[0m\u001b[0;34m\u001b[0m\u001b[0;34m\u001b[0m\u001b[0m\n\u001b[1;32m     41\u001b[0m     \u001b[0;32melse\u001b[0m\u001b[0;34m:\u001b[0m\u001b[0;34m\u001b[0m\u001b[0;34m\u001b[0m\u001b[0m\n\u001b[0;32m---> 42\u001b[0;31m         \u001b[0mquery\u001b[0m\u001b[0;34m=\u001b[0m\u001b[0;34mf\"{fields_query['filter']}%28{fields_query['management']}+{fields_query['logic1']}+{fields_query['soft']}%29\"\u001b[0m\u001b[0;34m\u001b[0m\u001b[0;34m\u001b[0m\u001b[0m\n\u001b[0m\u001b[1;32m     43\u001b[0m     \u001b[0;32mreturn\u001b[0m \u001b[0mquery\u001b[0m\u001b[0;34m\u001b[0m\u001b[0;34m\u001b[0m\u001b[0m\n\u001b[1;32m     44\u001b[0m \u001b[0;34m\u001b[0m\u001b[0m\n",
      "\u001b[0;31mKeyError\u001b[0m: 'filter'"
     ]
    }
   ],
   "source": [
    "import requests\n",
    "import json\n",
    "import os\n",
    "import csv\n",
    "import pandas as pd\n",
    "MY_API_KEY='9eab72c1b16e7eabbcc3b4cceb7851e7'\n",
    "path_combination_file=\"combination.json\"\n",
    "queries_csv=\"queries.csv\"\n",
    "\n",
    "def generate_combination(path_combination_file,queries_csv):\n",
    "    data = open(path_combination_file,) \n",
    "    \n",
    "    data=json.load(data)\n",
    "    combinations=[]\n",
    "    for filter in data['filter']:\n",
    "            for iot in data['iot']:\n",
    "                for logic1 in data['logic1']:\n",
    "                    for logic2 in data['logic2']:                        \n",
    "                        combinations.append({\"filter\":filter,\"management\":\"change management\",\"soft\":\"soft skills\",\"iot\":iot,\"logic1\":logic1,\"logic2\":logic2,\"result\":\"\"})\n",
    "    for filter in data['filter']:\n",
    "        for logic1 in data['logic1']:            \n",
    "                combinations.append({\"filter\":filter,\"management\":\"change management\",\"soft\":\"soft skills\",\"iot\":'',\"logic1\":logic1,\"logic2\":\"\",\"result\":\"\"})\n",
    "    df = pd.DataFrame(combinations, columns=['filter', 'management','soft','iot','logic1','logic2','result'])\n",
    "    df.to_csv(queries_csv, index=False)  \n",
    "\n",
    "def get_queries(path_file):\n",
    "    df=pd.read_csv(path_file)\n",
    "    return df.to_dict(orient='records')\n",
    "\n",
    "def get_chunk(key,start,count='25',date='2010-2020'):\n",
    "\n",
    "    resp = requests.get(f\"https://api.elsevier.com/content/search/scopus?query={key}&start={start}&count={count}&date={date}\",\n",
    "                    headers={'Accept':'application/json',\n",
    "                             'X-ELS-APIKey': MY_API_KEY})\n",
    "    data=json.loads(resp.text.encode('utf-8'))\n",
    "    return data\n",
    "\n",
    "def compose_query(fields_query):\n",
    "    if('management' in fields_query and 'iot' in fields_query):\n",
    "        query=f\"{fields_query['filter']}%28{fields_query['management']}+{fields_query['logic1']}+{fields_query['soft']}+{fields_query['logic2']}+{fields_query['iot']}%29\"\n",
    "    else:\n",
    "        query=f\"{fields_query['filter']}%28{fields_query['management']}+{fields_query['logic1']}+{fields_query['soft']}%29\"\n",
    "    return query\n",
    "\n",
    "def write_result(path_file,fields_query,result):\n",
    "    df=pd.read_csv(path_file)\n",
    "    df.loc[(df['filter'] == fields_query['filter']) & (df['management']==fields_query['management']) & \n",
    "    (df['soft']==fields_query['soft']) & (df['iot']==fields_query['iot']) & (df['logic1']==fields_query['logic1']) & (df['logic2']==fields_query['logic2']),'result']=result\n",
    "\n",
    "    df.to_csv(path_file,index=False,)\n",
    "\n",
    "def main():\n",
    "    # generate_combination(path_combination_file,queries_csv)\n",
    "    queries=get_queries(queries_csv)\n",
    "    composed_query=compose_query(queries[0])\n",
    "    print(composed_query)\n",
    "    # for query in queries:\n",
    "    #         composed_query=compose_query(query)\n",
    "    #         data=get_chunk(composed_query,start=0,count=25)\n",
    "    #         total_results=int(data['search-results']['opensearch:totalResults'])\n",
    "    #         write_result(queries_csv,query,total_results)\n",
    "\n",
    "if __name__ == \"__main__\":\n",
    "    main()"
   ]
  }
 ]
}