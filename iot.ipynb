{
 "metadata": {
  "language_info": {
   "codemirror_mode": {
    "name": "ipython",
    "version": 3
   },
   "file_extension": ".py",
   "mimetype": "text/x-python",
   "name": "python",
   "nbconvert_exporter": "python",
   "pygments_lexer": "ipython3",
   "version": "3.8.5-final"
  },
  "orig_nbformat": 2,
  "kernelspec": {
   "name": "python3",
   "display_name": "Python 3",
   "language": "python"
  }
 },
 "nbformat": 4,
 "nbformat_minor": 2,
 "cells": [
  {
   "cell_type": "code",
   "execution_count": 7,
   "metadata": {},
   "outputs": [],
   "source": [
    "import requests\n",
    "import json\n",
    "import os\n",
    "import csv\n",
    "import pandas as pd\n",
    "import math\n",
    "import numpy as np\n",
    "\n",
    "MY_API_KEY=''\n",
    "\n",
    "def get_chunk(key,start,count='25',date='2010-2020'):\n",
    "    resp = requests.get(f\"https://api.elsevier.com/content/search/scopus?query={key}&start={start}&count={count}&date={date}\",\n",
    "                    headers={'Accept':'application/json',\n",
    "                             'X-ELS-APIKey': MY_API_KEY})\n",
    "    data=json.loads(resp.text.encode('utf-8'))\n",
    "    return data\n",
    "\n",
    "def get_queries(path_file):\n",
    "    df=pd.read_csv(path_file)\n",
    "    return df.to_dict(orient='records')\n",
    "\n",
    "def write_result(path_file,fields_query,result,index,year):\n",
    "    df=pd.read_csv(path_file)\n",
    "    df.loc[index,f\"{year}\"]=math.trunc(int(result))\n",
    "    # df[year]=np.floor(df.year).astype(int)\n",
    "    df.to_csv(path_file,index=False,)\n",
    "\n",
    "def compose_query(fields_query):\n",
    "    query=f\"{fields_query['filter1']}%28{fields_query['query']}%29+{fields_query['logic1']}+{fields_query['filter2']}%28\"\n",
    "    query=query+f\"{fields_query['query']}%29+{fields_query['logic2']}+{fields_query['filter3']}%28{fields_query['query']}%29\"\n",
    "    return query\n",
    "def main():\n",
    "    queries=get_queries(\"query_iot.csv\")\n",
    "    _lista_query=[]\n",
    "    for query in queries:\n",
    "        result=query['result']\n",
    "        query=compose_query(query)\n",
    "        query={\"query\":query,\"result\":result}\n",
    "        _lista_query.append(query)\n",
    "    df=pd.DataFrame(_lista_query)\n",
    "    df.to_csv(\"query_iot_presentazione\",index=False)\n",
    "\n",
    "    # for i,query in enumerate(queries):\n",
    "    #             for year in range(2010,2021):\n",
    "    #                 composed_query=compose_query(query)            \n",
    "    #                 data=get_chunk(composed_query,start=0,count=25,date=year)    \n",
    "    #                 total_results=int(data['search-results']['opensearch:totalResults'])            \n",
    "    #                 write_result(\"query_iot_distriibuite.csv\",query,total_results,i,year)\n",
    "\n",
    "if __name__ == \"__main__\":\n",
    "    main()"
   ]
  }
 ]
}